{
 "cells": [
  {
   "cell_type": "code",
   "execution_count": 11,
   "id": "84384df0-42f9-447b-ab7a-3ca8192d080a",
   "metadata": {},
   "outputs": [
    {
     "name": "stdout",
     "output_type": "stream",
     "text": [
      "(759, 8) (759,)\n",
      "[[-0.294118    0.487437    0.180328   -0.292929   -1.          0.00149028\n",
      "  -0.53117    -0.0333333 ]\n",
      " [-0.882353   -0.145729    0.0819672  -0.414141   -1.         -0.207153\n",
      "  -0.766866   -0.666667  ]\n",
      " [-0.0588235   0.839196    0.0491803  -1.         -1.         -0.305514\n",
      "  -0.492741   -0.633333  ]\n",
      " [-0.882353   -0.105528    0.0819672  -0.535354   -0.777778   -0.162444\n",
      "  -0.923997   -1.        ]\n",
      " [-1.          0.376884   -0.344262   -0.292929   -0.602837    0.28465\n",
      "   0.887276   -0.6       ]]\n",
      "[0 1 0 1 0]\n"
     ]
    }
   ],
   "source": [
    "import numpy as np\n",
    "import torch\n",
    "\n",
    "# read data\n",
    "data = []\n",
    "file_path = './datasets/preprocess_dataset.txt'\n",
    "with open(file_path, 'r') as file:\n",
    "    for line in file:\n",
    "        line = line.strip().split()\n",
    "        label = int(line[0])  # extract label\n",
    "        features = [float(item.split(\":\")[1]) for item in line[1:]]  # extract features\n",
    "        if len(features) == 8:  #  filter useless data(with 7 features less or more)\n",
    "            data.append([label] + features)\n",
    "\n",
    "data = np.array(data)\n",
    "X = data[:, 1:]  \n",
    "y = data[:, 0]\n",
    "\n",
    "# change label from -1, 1 to 0,1\n",
    "y = np.where(y == -1, 0, 1)\n",
    "\n",
    "print(X.shape,y.shape)\n",
    "print(X[:5])\n",
    "print(y[:5]) # check label 0,1"
   ]
  },
  {
   "cell_type": "code",
   "execution_count": 17,
   "id": "724fae2a-a1f4-41ed-8fc4-2464cb122622",
   "metadata": {},
   "outputs": [
    {
     "name": "stdout",
     "output_type": "stream",
     "text": [
      "Epoch [10/100], Loss: 0.7314\n",
      "Epoch [20/100], Loss: 0.7132\n",
      "Epoch [30/100], Loss: 0.6976\n",
      "Epoch [40/100], Loss: 0.6842\n",
      "Epoch [50/100], Loss: 0.6728\n",
      "Epoch [60/100], Loss: 0.6629\n",
      "Epoch [70/100], Loss: 0.6545\n",
      "Epoch [80/100], Loss: 0.6472\n",
      "Epoch [90/100], Loss: 0.6410\n",
      "Epoch [100/100], Loss: 0.6355\n",
      "Test sets accuracy: 0.7303\n"
     ]
    }
   ],
   "source": [
    "import torch\n",
    "import torch.nn as nn\n",
    "import torch.optim as optim\n",
    "from sklearn.model_selection import train_test_split\n",
    "\n",
    "# define perceptron model\n",
    "class Perceptron(nn.Module):\n",
    "    def __init__(self, input_size):\n",
    "        super(Perceptron, self).__init__()\n",
    "        self.fc = nn.Linear(input_size, 1)  # fully connected output single value\n",
    "\n",
    "    def forward(self, x):\n",
    "        return torch.sigmoid(self.fc(x))  # sigmoid activate funciton\n",
    "\n",
    "# parameters\n",
    "input_size = X.shape[1]  \n",
    "num_epochs = 100  # training epoch\n",
    "learning_rate = 0.01  # learning rate\n",
    "\n",
    "# convert to tensor\n",
    "X_tensor = torch.tensor(X, dtype=torch.float32)\n",
    "y_tensor = torch.tensor(y, dtype=torch.float32).view(-1, 1)  # column vector\n",
    "\n",
    "# split sets\n",
    "X_train, X_test, y_train, y_test = train_test_split(X_tensor, y_tensor, test_size=0.2, random_state=42)\n",
    "\n",
    "# define loss function and optimizer\n",
    "model = Perceptron(input_size)\n",
    "criterion = nn.BCELoss()  # use binary cross entropy loss function\n",
    "optimizer = optim.SGD(model.parameters(), lr=learning_rate)  # stochastic gradient descent\n",
    "\n",
    "# train\n",
    "for epoch in range(num_epochs):\n",
    "    model.train()  \n",
    "    optimizer.zero_grad()  # clear gradient\n",
    "    outputs = model(X_train)  # forward propagation\n",
    "    loss = criterion(outputs, y_train)  # calculate loss\n",
    "    loss.backward()  # backward propagation\n",
    "    optimizer.step()  # update weights\n",
    "\n",
    "    if (epoch + 1) % 10 == 0:\n",
    "        print(f'Epoch [{epoch + 1}/{num_epochs}], Loss: {loss.item():.4f}')\n",
    "\n",
    "# predict\n",
    "model.eval()  \n",
    "with torch.no_grad():\n",
    "    y_pred = model(X_test) \n",
    "    y_pred_classes = (y_pred > 0.5).float()  # convert to binary class labels\n",
    "\n",
    "# accuracy\n",
    "accuracy = (y_pred_classes.eq(y_test).sum() / float(y_test.size(0))).item()\n",
    "print(f'Test sets accuracy: {accuracy:.4f}')\n"
   ]
  },
  {
   "cell_type": "code",
   "execution_count": null,
   "id": "74a62103-6195-4aef-bafa-e227f710b4db",
   "metadata": {},
   "outputs": [],
   "source": []
  },
  {
   "cell_type": "code",
   "execution_count": null,
   "id": "735e067e-6e28-4c75-8b3c-59805270ae07",
   "metadata": {},
   "outputs": [],
   "source": []
  },
  {
   "cell_type": "code",
   "execution_count": null,
   "id": "1fd80943-5b64-4041-b0c6-32d6f567811a",
   "metadata": {},
   "outputs": [],
   "source": []
  },
  {
   "cell_type": "code",
   "execution_count": null,
   "id": "1ba6449c-ead4-49de-a54b-3380132a80cd",
   "metadata": {},
   "outputs": [],
   "source": []
  },
  {
   "cell_type": "code",
   "execution_count": null,
   "id": "c9fa540d-93dd-4aa2-b206-21ba420d7933",
   "metadata": {},
   "outputs": [],
   "source": []
  },
  {
   "cell_type": "code",
   "execution_count": null,
   "id": "cb92e289-1a82-4191-8b85-31dd8309193c",
   "metadata": {},
   "outputs": [],
   "source": []
  },
  {
   "cell_type": "code",
   "execution_count": null,
   "id": "6dd13d3d-4c81-4377-8f65-53d622978537",
   "metadata": {},
   "outputs": [],
   "source": []
  },
  {
   "cell_type": "code",
   "execution_count": null,
   "id": "70ea209d-f94f-4f60-8030-5df0fd4cbc95",
   "metadata": {},
   "outputs": [],
   "source": []
  },
  {
   "cell_type": "code",
   "execution_count": null,
   "id": "145a0f2f-d6b8-444c-8723-e331b7532f6e",
   "metadata": {},
   "outputs": [],
   "source": []
  },
  {
   "cell_type": "code",
   "execution_count": null,
   "id": "15fb8862-bfff-413f-8006-52e2cb8fb5ff",
   "metadata": {},
   "outputs": [],
   "source": []
  },
  {
   "cell_type": "code",
   "execution_count": null,
   "id": "0758f669-9548-411e-b723-3abbb63a4c43",
   "metadata": {},
   "outputs": [],
   "source": []
  },
  {
   "cell_type": "code",
   "execution_count": null,
   "id": "c3357bab-6e7f-44c1-8474-d31c2fa353c2",
   "metadata": {},
   "outputs": [],
   "source": []
  }
 ],
 "metadata": {
  "kernelspec": {
   "display_name": "Python 3 (ipykernel)",
   "language": "python",
   "name": "python3"
  },
  "language_info": {
   "codemirror_mode": {
    "name": "ipython",
    "version": 3
   },
   "file_extension": ".py",
   "mimetype": "text/x-python",
   "name": "python",
   "nbconvert_exporter": "python",
   "pygments_lexer": "ipython3",
   "version": "3.11.7"
  }
 },
 "nbformat": 4,
 "nbformat_minor": 5
}
